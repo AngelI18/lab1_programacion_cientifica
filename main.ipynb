{
 "cells": [
  {
   "cell_type": "markdown",
   "id": "1b83be55",
   "metadata": {},
   "source": [
    "# Importar normalize.py"
   ]
  },
  {
   "cell_type": "code",
   "execution_count": null,
   "id": "3e0154b3",
   "metadata": {},
   "outputs": [
    {
     "data": {
      "text/plain": [
       "<module 'data_processing.normalize' from 'c:\\\\Users\\\\Claud\\\\Desktop\\\\Programación Cientifica\\\\lab1_programacion_cientifica\\\\data_processing\\\\normalize.py'>"
      ]
     },
     "execution_count": 12,
     "metadata": {},
     "output_type": "execute_result"
    }
   ],
   "source": [
    "import importlib\n",
    "import data_processing.normalize as norm\n",
    "importlib.reload(norm)\n"
   ]
  },
  {
   "cell_type": "markdown",
   "id": "874e4b49",
   "metadata": {},
   "source": [
    "# Importar stop_words.py"
   ]
  },
  {
   "cell_type": "code",
   "execution_count": 15,
   "id": "969fdd5b",
   "metadata": {},
   "outputs": [
    {
     "data": {
      "text/plain": [
       "<module 'data_processing.stop_words' from 'c:\\\\Users\\\\Claud\\\\Desktop\\\\Programación Cientifica\\\\lab1_programacion_cientifica\\\\data_processing\\\\stop_words.py'>"
      ]
     },
     "execution_count": 15,
     "metadata": {},
     "output_type": "execute_result"
    }
   ],
   "source": [
    "import data_processing.stop_words as stop\n",
    "importlib.reload(stop)"
   ]
  },
  {
   "cell_type": "markdown",
   "id": "def04956",
   "metadata": {},
   "source": [
    "# Importar TF.py"
   ]
  },
  {
   "cell_type": "code",
   "execution_count": 31,
   "id": "97c590ce",
   "metadata": {},
   "outputs": [
    {
     "data": {
      "text/plain": [
       "<module 'data_processing.TF' from 'c:\\\\Users\\\\Claud\\\\Desktop\\\\Programación Cientifica\\\\lab1_programacion_cientifica\\\\data_processing\\\\TF.py'>"
      ]
     },
     "execution_count": 31,
     "metadata": {},
     "output_type": "execute_result"
    }
   ],
   "source": [
    "import data_processing.TF as tf\n",
    "importlib.reload(tf)"
   ]
  },
  {
   "cell_type": "markdown",
   "id": "c89df886",
   "metadata": {},
   "source": [
    "# Importar IDF.py"
   ]
  },
  {
   "cell_type": "code",
   "execution_count": 33,
   "id": "6f991387",
   "metadata": {},
   "outputs": [
    {
     "data": {
      "text/plain": [
       "<module 'data_processing.IDF' from 'c:\\\\Users\\\\Claud\\\\Desktop\\\\Programación Cientifica\\\\lab1_programacion_cientifica\\\\data_processing\\\\IDF.py'>"
      ]
     },
     "execution_count": 33,
     "metadata": {},
     "output_type": "execute_result"
    }
   ],
   "source": [
    "import data_processing.IDF as idf\n",
    "importlib.reload(idf)"
   ]
  },
  {
   "cell_type": "markdown",
   "id": "eb2e86dc",
   "metadata": {},
   "source": [
    "# Lectura de Documentos"
   ]
  },
  {
   "cell_type": "code",
   "execution_count": 5,
   "id": "40a8df2e",
   "metadata": {},
   "outputs": [],
   "source": [
    "def readtext(ruta):\n",
    "    documento = \"\"\n",
    "    with open(ruta, \"r\") as arch:\n",
    "        for linea in arch:\n",
    "            documento += linea\n",
    "    return documento\n",
    "\n",
    "    "
   ]
  },
  {
   "cell_type": "markdown",
   "id": "77dc4187",
   "metadata": {},
   "source": [
    "# Aplicando Normalización y Stop-Words"
   ]
  },
  {
   "cell_type": "code",
   "execution_count": null,
   "id": "53959cc9",
   "metadata": {},
   "outputs": [],
   "source": [
    "documento1 = readtext(\"dataset/alt.atheism/doc_1.txt\")\n",
    "\n",
    "\n",
    "documento1 = norm.normalize(documento1, \"en\")\n",
    "documento2 = stop.delete_stop_words_en(documento1.split())\n",
    "print(documento1)"
   ]
  },
  {
   "cell_type": "markdown",
   "id": "f741952c",
   "metadata": {},
   "source": [
    "# Calculo del TF (Term Frecuency)"
   ]
  },
  {
   "cell_type": "code",
   "execution_count": null,
   "id": "cdf591f8",
   "metadata": {},
   "outputs": [
    {
     "name": "stdout",
     "output_type": "stream",
     "text": [
      "[0.0007396449704142012, 0.0007396449704142012, 0.0007396449704142012, 0.0007396449704142012, 0.0007396449704142012, 0.0014792899408284023, 0.0007396449704142012, 0.0007396449704142012, 0.0007396449704142012, 0.0007396449704142012, 0.0007396449704142012, 0.0007396449704142012, 0.0007396449704142012, 0.0014792899408284023, 0.0007396449704142012, 0.0007396449704142012, 0.0007396449704142012, 0.0014792899408284023, 0.0007396449704142012, 0.0007396449704142012, 0.0029585798816568047, 0.0007396449704142012, 0.0007396449704142012, 0.0014792899408284023, 0.0007396449704142012, 0.0014792899408284023, 0.0007396449704142012, 0.0007396449704142012, 0.0007396449704142012, 0.0007396449704142012, 0.0007396449704142012, 0.0014792899408284023, 0.0007396449704142012, 0.0014792899408284023, 0.0007396449704142012, 0.0007396449704142012, 0.0007396449704142012, 0.0007396449704142012, 0.0007396449704142012, 0.0014792899408284023, 0.0007396449704142012, 0.0014792899408284023, 0.0007396449704142012, 0.0007396449704142012, 0.0014792899408284023, 0.0007396449704142012, 0.0007396449704142012, 0.0007396449704142012, 0.0007396449704142012, 0.0007396449704142012, 0.0007396449704142012, 0.0007396449704142012, 0.0007396449704142012, 0.0007396449704142012, 0.0007396449704142012, 0.0007396449704142012, 0.0007396449704142012, 0.0007396449704142012, 0.0007396449704142012, 0.0007396449704142012, 0.0014792899408284023, 0.0007396449704142012, 0.0007396449704142012, 0.0007396449704142012, 0.0007396449704142012, 0.0007396449704142012, 0.0007396449704142012, 0.0007396449704142012, 0.0007396449704142012, 0.0007396449704142012, 0.0007396449704142012, 0.0007396449704142012, 0.0007396449704142012, 0.0007396449704142012, 0.0022189349112426036, 0.0007396449704142012, 0.0007396449704142012, 0.0007396449704142012, 0.0007396449704142012, 0.0007396449704142012, 0.0007396449704142012, 0.0007396449704142012, 0.0007396449704142012, 0.0022189349112426036, 0.0007396449704142012, 0.0007396449704142012, 0.0007396449704142012, 0.0007396449704142012, 0.0014792899408284023, 0.0007396449704142012, 0.0007396449704142012, 0.0007396449704142012, 0.0014792899408284023, 0.0007396449704142012, 0.0007396449704142012, 0.0007396449704142012, 0.0014792899408284023, 0.0007396449704142012]\n"
     ]
    }
   ],
   "source": [
    "lista_tf = tf.CalculoDelTF(documento1, documento2)\n",
    "print(lista_tf)"
   ]
  },
  {
   "cell_type": "markdown",
   "id": "3fd48d2c",
   "metadata": {},
   "source": [
    "# Calculo del IDF (Inverse Document Frecuency)"
   ]
  },
  {
   "cell_type": "code",
   "execution_count": 35,
   "id": "1db7b9f3",
   "metadata": {},
   "outputs": [
    {
     "name": "stdout",
     "output_type": "stream",
     "text": [
      "[7.20934025660291, 7.20934025660291, 7.20934025660291, 7.20934025660291, 7.20934025660291, 7.20934025660291, 7.20934025660291, 7.20934025660291, 7.20934025660291, 7.20934025660291, 7.20934025660291, 7.20934025660291, 7.20934025660291, 7.20934025660291, 7.20934025660291, 7.20934025660291, 7.20934025660291, 7.20934025660291, 7.20934025660291, 7.20934025660291, 7.20934025660291, 7.20934025660291, 7.20934025660291, 7.20934025660291, 7.20934025660291, 7.20934025660291, 7.20934025660291, 7.20934025660291, 7.20934025660291, 7.20934025660291, 7.20934025660291, 7.20934025660291, 7.20934025660291, 7.20934025660291, 7.20934025660291, 7.20934025660291, 7.20934025660291, 7.20934025660291, 7.20934025660291, 7.20934025660291, 7.20934025660291, 7.20934025660291, 7.20934025660291, 7.20934025660291, 7.20934025660291, 7.20934025660291, 7.20934025660291, 7.20934025660291, 7.20934025660291, 7.20934025660291, 7.20934025660291, 7.20934025660291, 7.20934025660291, 7.20934025660291, 7.20934025660291, 7.20934025660291, 7.20934025660291, 7.20934025660291, 7.20934025660291, 7.20934025660291, 7.20934025660291, 7.20934025660291, 7.20934025660291, 7.20934025660291, 7.20934025660291, 7.20934025660291, 7.20934025660291, 7.20934025660291, 7.20934025660291, 7.20934025660291, 7.20934025660291, 7.20934025660291, 7.20934025660291, 7.20934025660291, 7.20934025660291, 7.20934025660291, 7.20934025660291, 7.20934025660291, 7.20934025660291, 7.20934025660291, 7.20934025660291, 7.20934025660291, 7.20934025660291, 7.20934025660291, 7.20934025660291, 7.20934025660291, 7.20934025660291, 7.20934025660291, 7.20934025660291, 7.20934025660291, 7.20934025660291, 7.20934025660291, 7.20934025660291, 7.20934025660291, 7.20934025660291, 7.20934025660291, 7.20934025660291, 7.20934025660291, 7.20934025660291, 7.20934025660291, 7.20934025660291, 7.20934025660291, 7.20934025660291, 7.20934025660291, 7.20934025660291, 7.20934025660291, 7.20934025660291, 7.20934025660291, 7.20934025660291]\n"
     ]
    }
   ],
   "source": [
    "lista_idf = idf.CalculoIDF(documento1, documento2)\n",
    "print(lista_idf)"
   ]
  }
 ],
 "metadata": {
  "kernelspec": {
   "display_name": "base",
   "language": "python",
   "name": "python3"
  },
  "language_info": {
   "codemirror_mode": {
    "name": "ipython",
    "version": 3
   },
   "file_extension": ".py",
   "mimetype": "text/x-python",
   "name": "python",
   "nbconvert_exporter": "python",
   "pygments_lexer": "ipython3",
   "version": "3.13.5"
  }
 },
 "nbformat": 4,
 "nbformat_minor": 5
}
